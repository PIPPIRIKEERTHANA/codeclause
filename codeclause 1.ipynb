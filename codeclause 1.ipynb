{
 "cells": [
  {
   "cell_type": "code",
   "execution_count": 3,
   "id": "03a12c9d",
   "metadata": {},
   "outputs": [],
   "source": [
    "import pyshorteners\n",
    "import requests\n"
   ]
  },
  {
   "cell_type": "code",
   "execution_count": 4,
   "id": "0572f61a",
   "metadata": {},
   "outputs": [],
   "source": [
    "def shorten_url(url):\n",
    "    shortener = pyshorteners.Shortener()\n",
    "    shortened_url = shortener.tinyurl.short(url)\n",
    "    return shortened_url"
   ]
  },
  {
   "cell_type": "code",
   "execution_count": 5,
   "id": "9454b2a9",
   "metadata": {},
   "outputs": [],
   "source": [
    "def expand_url(shortened_url):\n",
    "    response = requests.head(shortened_url, allow_redirects=True)\n",
    "    return response.url\n"
   ]
  },
  {
   "cell_type": "code",
   "execution_count": 6,
   "id": "53e66d49",
   "metadata": {},
   "outputs": [
    {
     "name": "stdout",
     "output_type": "stream",
     "text": [
      "Enter URL: https://github.com/RavitejaUppulapu/Codeclause-projects/blob/main/URL/url.py\n",
      "Shortened URL: https://tinyurl.com/2pwrdx36\n"
     ]
    }
   ],
   "source": [
    "url = input(\"Enter URL: \")\n",
    "shortened_url = shorten_url(url)\n",
    "print(\"Shortened URL:\", shortened_url)"
   ]
  },
  {
   "cell_type": "code",
   "execution_count": null,
   "id": "e0e32e52",
   "metadata": {},
   "outputs": [],
   "source": [
    "expanded_url = expand_url(shortened_url)\n",
    "print(\"Expanded URL:\", expanded_url)"
   ]
  }
 ],
 "metadata": {
  "kernelspec": {
   "display_name": "Python 3 (ipykernel)",
   "language": "python",
   "name": "python3"
  },
  "language_info": {
   "codemirror_mode": {
    "name": "ipython",
    "version": 3
   },
   "file_extension": ".py",
   "mimetype": "text/x-python",
   "name": "python",
   "nbconvert_exporter": "python",
   "pygments_lexer": "ipython3",
   "version": "3.10.9"
  }
 },
 "nbformat": 4,
 "nbformat_minor": 5
}
