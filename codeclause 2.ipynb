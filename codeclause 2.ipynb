{
 "cells": [
  {
   "cell_type": "code",
   "execution_count": 3,
   "id": "78b9fbf6",
   "metadata": {},
   "outputs": [
    {
     "name": "stdout",
     "output_type": "stream",
     "text": [
      "pygame 2.5.0 (SDL 2.28.0, Python 3.10.9)\n",
      "Hello from the pygame community. https://www.pygame.org/contribute.html\n"
     ]
    }
   ],
   "source": [
    "import pygame\n",
    "from pygame import mixer\n",
    "from tkinter import *\n",
    "import os\n"
   ]
  },
  {
   "cell_type": "code",
   "execution_count": 5,
   "id": "a93214c0",
   "metadata": {},
   "outputs": [],
   "source": [
    "def playsong():\n",
    "    currentsong=playlist.get(ACTIVE)\n",
    "    print(currentsong)\n",
    "    mixer.music.load(currentsong)\n",
    "    songstatus.set(\"Playing\")\n",
    "    mixer.music.play()"
   ]
  },
  {
   "cell_type": "code",
   "execution_count": 6,
   "id": "231087a4",
   "metadata": {},
   "outputs": [],
   "source": [
    "def pausesong():\n",
    "    songstatus.set(\"Paused\")\n",
    "    mixer.music.pause()\n"
   ]
  },
  {
   "cell_type": "code",
   "execution_count": 7,
   "id": "9b79ac77",
   "metadata": {},
   "outputs": [],
   "source": [
    "def stopsong():\n",
    "    songstatus.set(\"Stopped\")\n",
    "    mixer.music.stop()\n"
   ]
  },
  {
   "cell_type": "code",
   "execution_count": 8,
   "id": "c182680c",
   "metadata": {},
   "outputs": [],
   "source": [
    "def resumesong():\n",
    "    songstatus.set(\"Resuming\")\n",
    "    mixer.music.unpause()"
   ]
  },
  {
   "cell_type": "code",
   "execution_count": 9,
   "id": "32463ae4",
   "metadata": {},
   "outputs": [
    {
     "data": {
      "text/plain": [
       "''"
      ]
     },
     "execution_count": 9,
     "metadata": {},
     "output_type": "execute_result"
    }
   ],
   "source": [
    "root=Tk()\n",
    "root.title('My Music player project')"
   ]
  },
  {
   "cell_type": "code",
   "execution_count": 10,
   "id": "c78c4b2a",
   "metadata": {},
   "outputs": [],
   "source": [
    "mixer.init()\n",
    "songstatus=StringVar()\n",
    "songstatus.set(\"choosing\")\n"
   ]
  },
  {
   "cell_type": "code",
   "execution_count": 11,
   "id": "3b6560d6",
   "metadata": {},
   "outputs": [],
   "source": [
    "playlist=Listbox(root,selectmode=SINGLE,bg=\"DodgerBlue2\",fg=\"white\",font=('arial',15),width=40)\n",
    "playlist.grid(columnspan=5)"
   ]
  },
  {
   "cell_type": "code",
   "execution_count": 17,
   "id": "2adbfd11",
   "metadata": {},
   "outputs": [],
   "source": [
    "os.chdir(r'D:/songs')\n",
    "songs=os.listdir()\n",
    "for s in songs:\n",
    "    playlist.insert(END,s)"
   ]
  },
  {
   "cell_type": "code",
   "execution_count": 18,
   "id": "5d0c585c",
   "metadata": {},
   "outputs": [],
   "source": [
    "playbtn=Button(root,text=\"play\",command=playsong)\n",
    "playbtn.config(font=('arial',20),bg=\"DodgerBlue2\",fg=\"white\",padx=7,pady=7)\n",
    "playbtn.grid(row=1,column=0)"
   ]
  },
  {
   "cell_type": "code",
   "execution_count": 19,
   "id": "7efaa70a",
   "metadata": {},
   "outputs": [],
   "source": [
    "pausebtn=Button(root,text=\"Pause\",command=pausesong)\n",
    "pausebtn.config(font=('arial',20),bg=\"DodgerBlue2\",fg=\"white\",padx=7,pady=7)\n",
    "pausebtn.grid(row=1,column=1)"
   ]
  },
  {
   "cell_type": "code",
   "execution_count": 20,
   "id": "30bd6cd6",
   "metadata": {},
   "outputs": [],
   "source": [
    "stopbtn=Button(root,text=\"Stop\",command=stopsong)\n",
    "stopbtn.config(font=('arial',20),bg=\"DodgerBlue2\",fg=\"white\",padx=7,pady=7)\n",
    "stopbtn.grid(row=1,column=2)\n"
   ]
  },
  {
   "cell_type": "code",
   "execution_count": 21,
   "id": "45ec5e25",
   "metadata": {},
   "outputs": [],
   "source": [
    "Resumebtn=Button(root,text=\"Resume\",command=resumesong)\n",
    "Resumebtn.config(font=('arial',20),bg=\"DodgerBlue2\",fg=\"white\",padx=7,pady=7)\n",
    "Resumebtn.grid(row=1,column=3)\n"
   ]
  },
  {
   "cell_type": "code",
   "execution_count": 22,
   "id": "5013473a",
   "metadata": {},
   "outputs": [
    {
     "name": "stdout",
     "output_type": "stream",
     "text": [
      "3-Sirivennala.mp3\n",
      "3-Sirivennala.mp3\n"
     ]
    }
   ],
   "source": [
    "mainloop()"
   ]
  }
 ],
 "metadata": {
  "kernelspec": {
   "display_name": "Python 3 (ipykernel)",
   "language": "python",
   "name": "python3"
  },
  "language_info": {
   "codemirror_mode": {
    "name": "ipython",
    "version": 3
   },
   "file_extension": ".py",
   "mimetype": "text/x-python",
   "name": "python",
   "nbconvert_exporter": "python",
   "pygments_lexer": "ipython3",
   "version": "3.10.9"
  }
 },
 "nbformat": 4,
 "nbformat_minor": 5
}
